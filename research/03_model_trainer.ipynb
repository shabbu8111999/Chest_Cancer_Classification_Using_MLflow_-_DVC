{
 "cells": [
  {
   "cell_type": "code",
   "execution_count": 1,
   "id": "0b1728c1",
   "metadata": {},
   "outputs": [],
   "source": [
    "import os"
   ]
  },
  {
   "cell_type": "code",
   "execution_count": 2,
   "id": "a410ea2e",
   "metadata": {},
   "outputs": [
    {
     "data": {
      "text/plain": [
       "'c:\\\\Users\\\\H P\\\\Desktop\\\\Machine Learning Projects\\\\ML Ops Project\\\\Chest_Cancer_Classification_Using_MLflow_-_DVC\\\\research'"
      ]
     },
     "execution_count": 2,
     "metadata": {},
     "output_type": "execute_result"
    }
   ],
   "source": [
    "%pwd"
   ]
  },
  {
   "cell_type": "code",
   "execution_count": 3,
   "id": "f7e83e96",
   "metadata": {},
   "outputs": [],
   "source": [
    "os.chdir(\"../\")"
   ]
  },
  {
   "cell_type": "code",
   "execution_count": 4,
   "id": "bfd50e3e",
   "metadata": {},
   "outputs": [
    {
     "data": {
      "text/plain": [
       "'c:\\\\Users\\\\H P\\\\Desktop\\\\Machine Learning Projects\\\\ML Ops Project\\\\Chest_Cancer_Classification_Using_MLflow_-_DVC'"
      ]
     },
     "execution_count": 4,
     "metadata": {},
     "output_type": "execute_result"
    }
   ],
   "source": [
    "%pwd"
   ]
  },
  {
   "cell_type": "code",
   "execution_count": 5,
   "id": "a5a7bcc9",
   "metadata": {},
   "outputs": [],
   "source": [
    "from dataclasses import dataclass\n",
    "from pathlib import Path\n",
    "\n",
    "\n",
    "@dataclass(frozen=True)\n",
    "class TrainingConfig:\n",
    "    root_dir: Path\n",
    "    trained_model_path: Path\n",
    "    updated_base_model_path: Path\n",
    "    training_data: Path\n",
    "    params_epochs: int\n",
    "    params_batch_size: int\n",
    "    params_is_augmentation: bool\n",
    "    params_image_size: list"
   ]
  },
  {
   "cell_type": "code",
   "execution_count": 6,
   "id": "439d64de",
   "metadata": {},
   "outputs": [],
   "source": [
    "from ChestCancerClassification.constants import *\n",
    "from ChestCancerClassification.utils.common import read_yaml, create_directories\n",
    "import tensorflow as tf"
   ]
  },
  {
   "cell_type": "code",
   "execution_count": 7,
   "id": "778730c9",
   "metadata": {},
   "outputs": [],
   "source": [
    "class ConfigurationManager:\n",
    "    def __init__(\n",
    "        self,\n",
    "        config_filepath = CONFIG_FILE_PATH,\n",
    "        params_filepath = PARAMS_FILE_PATH):\n",
    "\n",
    "        self.config = read_yaml(config_filepath)\n",
    "        self.params = read_yaml(params_filepath)\n",
    "\n",
    "        create_directories([self.config.artifacts_root])\n",
    "\n",
    "        \n",
    "\n",
    "    def get_training_config(self) -> TrainingConfig:\n",
    "        training = self.config.training\n",
    "        prepare_base_model = self.config.prepare_base_model\n",
    "        params = self.params\n",
    "        training_data = os.path.join(self.config.data_ingestion.unzip_dir, \"Chest_Scan_CT\")\n",
    "        create_directories([\n",
    "            Path(training.root_dir)\n",
    "        ])\n",
    "\n",
    "        training_config = TrainingConfig(\n",
    "            root_dir=Path(training.root_dir),\n",
    "            trained_model_path=Path(training.trained_model_path),\n",
    "            updated_base_model_path=Path(prepare_base_model.updated_base_model_path),\n",
    "            training_data=Path(training_data),\n",
    "            params_epochs=params.EPOCHS,\n",
    "            params_batch_size=params.BATCH_SIZE,\n",
    "            params_is_augmentation=params.AUGMENTATION,\n",
    "            params_image_size=params.IMAGE_SIZE\n",
    "        )\n",
    "\n",
    "        return training_config"
   ]
  },
  {
   "cell_type": "code",
   "execution_count": 8,
   "id": "90a482ae",
   "metadata": {},
   "outputs": [],
   "source": [
    "import os\n",
    "import urllib.request as request\n",
    "from zipfile import ZipFile\n",
    "import tensorflow as tf\n",
    "import time"
   ]
  },
  {
   "cell_type": "code",
   "execution_count": null,
   "id": "d172f75c",
   "metadata": {},
   "outputs": [],
   "source": [
    "class Training:\n",
    "    def __init__(self, config: TrainingConfig):\n",
    "        self.config = config\n",
    "\n",
    "    \n",
    "    def get_base_model(self):\n",
    "        self.model = tf.keras.models.load_model(\n",
    "            self.config.updated_base_model_path\n",
    "        )\n",
    "\n",
    "    def train_valid_generator(self):\n",
    "\n",
    "        datagenerator_kwargs = dict(\n",
    "            rescale = 1./255,\n",
    "            validation_split=0.20\n",
    "        )\n",
    "\n",
    "        dataflow_kwargs = dict(\n",
    "            target_size=self.config.params_image_size[:-1],\n",
    "            batch_size=self.config.params_batch_size,\n",
    "            interpolation=\"bilinear\"\n",
    "        )\n",
    "\n",
    "        valid_datagenerator = tf.keras.preprocessing.image.ImageDataGenerator(\n",
    "            **datagenerator_kwargs\n",
    "        )\n",
    "\n",
    "        self.valid_generator = valid_datagenerator.flow_from_directory(\n",
    "            directory=self.config.training_data,\n",
    "            subset=\"validation\",\n",
    "            shuffle=False,\n",
    "            **dataflow_kwargs\n",
    "        )\n",
    "\n",
    "        if self.config.params_is_augmentation:\n",
    "            train_datagenerator = tf.keras.preprocessing.image.ImageDataGenerator(\n",
    "                rotation_range=40,\n",
    "                horizontal_flip=True,\n",
    "                width_shift_range=0.2,\n",
    "                height_shift_range=0.2,\n",
    "                shear_range=0.2,\n",
    "                zoom_range=0.2,\n",
    "                **datagenerator_kwargs\n",
    "            )\n",
    "        else:\n",
    "            train_datagenerator = valid_datagenerator\n",
    "\n",
    "        self.train_generator = train_datagenerator.flow_from_directory(\n",
    "            directory=self.config.training_data,\n",
    "            subset=\"training\",\n",
    "            shuffle=True,\n",
    "            **dataflow_kwargs\n",
    "        )\n",
    "\n",
    "    \n",
    "    @staticmethod\n",
    "    def save_model(path: Path, model: tf.keras.Model):\n",
    "        model.save(path)\n",
    "\n",
    "\n",
    "\n",
    "    \n",
    "    def train(self):\n",
    "        self.steps_per_epoch = self.train_generator.samples // self.train_generator.batch_size\n",
    "        self.validation_steps = self.valid_generator.samples // self.valid_generator.batch_size\n",
    "\n",
    "        self.model.fit(\n",
    "            self.train_generator,\n",
    "            epochs=self.config.params_epochs,\n",
    "            steps_per_epoch=self.steps_per_epoch,\n",
    "            validation_steps=self.validation_steps,\n",
    "            validation_data=self.valid_generator\n",
    "        )\n",
    "\n",
    "        self.save_model(\n",
    "            path=self.config.trained_model_path,\n",
    "            model=self.model\n",
    "        )"
   ]
  },
  {
   "cell_type": "code",
   "execution_count": 10,
   "id": "d24fda5e",
   "metadata": {},
   "outputs": [
    {
     "name": "stdout",
     "output_type": "stream",
     "text": [
      "[2025-07-14 11:33:50,936: INFO: common: yaml file: config\\config.yaml loaded successfully:]\n",
      "[2025-07-14 11:33:50,977: INFO: common: yaml file: params.yaml loaded successfully:]\n",
      "[2025-07-14 11:33:50,979: INFO: common: created directory at: artifacts:]\n",
      "[2025-07-14 11:33:50,982: INFO: common: created directory at: artifacts\\training:]\n",
      "Found 68 images belonging to 2 classes.\n",
      "Found 275 images belonging to 2 classes.\n",
      "Epoch 1/10\n",
      "17/17 [==============================] - 74s 4s/step - loss: 18.8814 - accuracy: 0.4749 - val_loss: 16.2167 - val_accuracy: 0.6094\n",
      "Epoch 2/10\n",
      "17/17 [==============================] - 80s 5s/step - loss: 15.8317 - accuracy: 0.4865 - val_loss: 0.2558 - val_accuracy: 0.9219\n",
      "Epoch 3/10\n",
      "17/17 [==============================] - 73s 4s/step - loss: 6.5204 - accuracy: 0.6834 - val_loss: 23.3070 - val_accuracy: 0.6094\n",
      "Epoch 4/10\n",
      "17/17 [==============================] - 74s 4s/step - loss: 6.7725 - accuracy: 0.7220 - val_loss: 6.8950 - val_accuracy: 0.6094\n",
      "Epoch 5/10\n",
      "17/17 [==============================] - 82s 5s/step - loss: 4.5523 - accuracy: 0.7722 - val_loss: 1.8348 - val_accuracy: 0.6875\n",
      "Epoch 6/10\n",
      "17/17 [==============================] - 83s 5s/step - loss: 5.5869 - accuracy: 0.7104 - val_loss: 9.3565e-04 - val_accuracy: 1.0000\n",
      "Epoch 7/10\n",
      "17/17 [==============================] - 80s 5s/step - loss: 3.5799 - accuracy: 0.7954 - val_loss: 0.0229 - val_accuracy: 0.9844\n",
      "Epoch 8/10\n",
      "17/17 [==============================] - 78s 5s/step - loss: 3.4885 - accuracy: 0.8108 - val_loss: 3.0446 - val_accuracy: 0.6562\n",
      "Epoch 9/10\n",
      "17/17 [==============================] - 80s 5s/step - loss: 0.8239 - accuracy: 0.8996 - val_loss: 0.1631 - val_accuracy: 0.8750\n",
      "Epoch 10/10\n",
      "17/17 [==============================] - 91s 5s/step - loss: 1.3460 - accuracy: 0.8571 - val_loss: 0.5706 - val_accuracy: 0.8750\n"
     ]
    }
   ],
   "source": [
    "try:\n",
    "    config = ConfigurationManager()\n",
    "    training_config = config.get_training_config()\n",
    "    training = Training(config=training_config)\n",
    "    training.get_base_model()\n",
    "    training.train_valid_generator()\n",
    "    training.train()\n",
    "    \n",
    "except Exception as e:\n",
    "    raise e"
   ]
  },
  {
   "cell_type": "code",
   "execution_count": null,
   "id": "7d79067e",
   "metadata": {},
   "outputs": [],
   "source": [
    "## In case if the training data directory is empty or does not contain subdirectories then only the following code will be executed\n",
    "\n",
    "\"\"\"\n",
    "from pathlib import Path\n",
    "import shutil\n",
    "\n",
    "try:\n",
    "    config = ConfigurationManager()\n",
    "    training_config = config.get_training_config()\n",
    "    print(\"Training data directory:\", training_config.training_data)\n",
    "    contents = list(Path(training_config.training_data).glob(\"*\"))\n",
    "    print(\"Contents of training data directory:\", contents)\n",
    "\n",
    "    # Check if there are any subdirectories (classes) in the training data directory\n",
    "    class_dirs = [d for d in contents if d.is_dir()]\n",
    "    if not class_dirs:\n",
    "        # Automatically create a subdirectory and move all images into it\n",
    "        unknown_class_dir = Path(training_config.training_data) / \"unknown\"\n",
    "        unknown_class_dir.mkdir(exist_ok=True)\n",
    "        for item in contents:\n",
    "            if item.is_file():\n",
    "                shutil.move(str(item), str(unknown_class_dir / item.name))\n",
    "        print(f\"Moved all images into {unknown_class_dir}.\")\n",
    "        # Update contents and class_dirs after moving\n",
    "        contents = list(Path(training_config.training_data).glob(\"*\"))\n",
    "        class_dirs = [d for d in contents if d.is_dir()]\n",
    "        if not class_dirs:\n",
    "            raise ValueError(f\"Failed to create class subdirectory in {training_config.training_data}.\")\n",
    "\n",
    "    training = Training(config=training_config)\n",
    "    training.get_base_model()\n",
    "    training.train_valid_generator()\n",
    "    training.train()\n",
    "    \n",
    "except Exception as e:\n",
    "    print(\"Error:\", e)\n",
    "    raise e\n",
    "    \"\"\""
   ]
  }
 ],
 "metadata": {
  "kernelspec": {
   "display_name": "cancer",
   "language": "python",
   "name": "python3"
  },
  "language_info": {
   "codemirror_mode": {
    "name": "ipython",
    "version": 3
   },
   "file_extension": ".py",
   "mimetype": "text/x-python",
   "name": "python",
   "nbconvert_exporter": "python",
   "pygments_lexer": "ipython3",
   "version": "3.10.18"
  }
 },
 "nbformat": 4,
 "nbformat_minor": 5
}
